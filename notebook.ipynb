{
  "cells": [
    {
      "cell_type": "markdown",
      "metadata": {
        "id": "H9wADwK78DCz"
      },
      "source": [
        "# Proyek Analisis Data: E-Commerce Public Dataset\n",
        "- **Nama:** Raphael Hanley\n",
        "- **Email:** raphael.h22@mhs.istts.ac.id\n",
        "- **ID Dicoding:** raphael_hanley_lf4b"
      ]
    },
    {
      "cell_type": "markdown",
      "metadata": {
        "id": "eE0raob58DC0"
      },
      "source": [
        "## Menentukan Pertanyaan Bisnis"
      ]
    },
    {
      "cell_type": "markdown",
      "metadata": {
        "id": "GmQeQ5YF8DC0"
      },
      "source": [
        "- Bagaimana distribusi nilai pembayaran antara kategori produk yang berbeda dan kategori produk apa yang menghasilkan pendapatan tertinggi?\n",
        "- Bagaimana distribusi nilai pembayaran di berbagai kategori produk, dan bagaimana kaitannya dengan jumlah item yang dipesan di setiap kategori?"
      ]
    },
    {
      "cell_type": "markdown",
      "metadata": {
        "id": "H-z4QGlO8DC1"
      },
      "source": [
        "## Import Semua Packages/Library yang Digunakan"
      ]
    },
    {
      "cell_type": "code",
      "execution_count": null,
      "metadata": {
        "id": "FVYwaObI8DC1"
      },
      "outputs": [],
      "source": [
        "import pandas as pd\n",
        "import matplotlib.pyplot as plt\n",
        "import seaborn as sns\n",
        "import streamlit as st\n",
        "from babel.numbers import format_currency\n",
        "import folium\n",
        "from streamlit_folium import st_folium\n",
        "import os"
      ]
    },
    {
      "cell_type": "markdown",
      "metadata": {
        "id": "h_Sh51Xy8DC1"
      },
      "source": [
        "## Data Wrangling"
      ]
    },
    {
      "cell_type": "markdown",
      "metadata": {
        "id": "sXU2GBYu8DC1"
      },
      "source": [
        "### Gathering Data"
      ]
    },
    {
      "cell_type": "code",
      "execution_count": null,
      "metadata": {
        "id": "zjCBk1BI8DC1"
      },
      "outputs": [],
      "source": [
        "customers_df = pd.read_csv(\"customers_dataset.csv\")\n",
        "orders_df = pd.read_csv(\"orders_dataset.csv\")\n",
        "order_payments_df = pd.read_csv(\"order_payments_dataset.csv\")\n",
        "order_items_df = pd.read_csv(\"order_items_dataset.csv\")\n",
        "product_df = pd.read_csv(\"products_dataset.csv\")\n",
        "product_tl = pd.read_csv(\"product_category_name_translation.csv\")"
      ]
    },
    {
      "cell_type": "markdown",
      "source": [
        "**Insight:**\n",
        "- xxx\n",
        "- xxx"
      ],
      "metadata": {
        "id": "MMi6xGaDkbCi"
      }
    },
    {
      "cell_type": "markdown",
      "metadata": {
        "id": "FHSiqaZp8DC1"
      },
      "source": [
        "### Assessing Data"
      ]
    },
    {
      "cell_type": "code",
      "source": [
        "st.title('🔥Dashboard E-Commerce 🔥')\n",
        "st.subheader('Data Overview')\n",
        "st.write(\"Customers and All Order Dataset Info:\")\n",
        "st.write(all_order_df.head())\n",
        "st.write(all_order_df.describe())\n",
        "\n",
        "st.write(\"Geolocation Dataset Info:\")\n",
        "st.write(geolocation_df.head())\n",
        "st.write(geolocation_df.describe())\n",
        "\n",
        "st.write(\"Missing Values in Customers and All Orders Dataset:\")\n",
        "st.write(all_order_df.isnull().sum())\n",
        "\n",
        "st.write(\"Missing Values in Geolocation Dataset:\")\n",
        "st.write(geolocation_df.isnull().sum())"
      ],
      "metadata": {
        "id": "ax-3tEjc9Cj1"
      },
      "execution_count": null,
      "outputs": []
    },
    {
      "cell_type": "markdown",
      "source": [
        "**Insight:**\n",
        "- xxx\n",
        "- xxx"
      ],
      "metadata": {
        "id": "7dtxhAPrkhPL"
      }
    },
    {
      "cell_type": "markdown",
      "metadata": {
        "id": "EhN5R4hr8DC1"
      },
      "source": [
        "### Cleaning Data"
      ]
    },
    {
      "cell_type": "code",
      "source": [
        "def merge_csv_files(files):\n",
        "    merged_csv_file = \"all_data.csv\"\n",
        "\n",
        "    if os.path.exists(merged_csv_file):\n",
        "        all_data_df = pd.read_csv(merged_csv_file)\n",
        "    else:\n",
        "        files.to_csv(merged_csv_file, index=False)\n",
        "        all_data_df = files\n",
        "\n",
        "    return all_data_df\n",
        "\n",
        "customers_df = pd.read_csv(\"../data/customers_dataset.csv\")\n",
        "orders_df = pd.read_csv(\"../data/orders_dataset.csv\")\n",
        "order_payments_df = pd.read_csv(\"../data/order_payments_dataset.csv\")\n",
        "order_items_df = pd.read_csv(\"../data/order_items_dataset.csv\")\n",
        "product_df = pd.read_csv(\"../data/products_dataset.csv\")\n",
        "product_tl = pd.read_csv(\"../data/product_category_name_translation.csv\")\n",
        "\n",
        "merged_df = pd.merge(customers_df, orders_df, on=\"customer_id\", how=\"inner\")\n",
        "merged_df = pd.merge(merged_df, order_payments_df, on=\"order_id\", how=\"inner\")\n",
        "merged_df = pd.merge(merged_df, order_items_df, on=\"order_id\", how=\"inner\")\n",
        "merged_df = pd.merge(merged_df, product_df, on=\"product_id\", how=\"inner\")\n",
        "merged_df = pd.merge(merged_df, product_tl, on=\"product_category_name\", how=\"inner\")\n",
        "\n",
        "all_data_df = merge_csv_files(\"all_data.csv\")\n",
        "all_order_df = create_sum_order_items_df(all_data_df)\n",
        "\n",
        "datetime_columns = [\"order_purchase_timestamp\", \"order_approved_at\", \"order_delivered_carrier_date\", \"order_delivered_customer_date\", \"order_estimated_delivery_date\"]\n",
        "\n",
        "for column in datetime_columns:\n",
        "  all_data_df[column] = pd.to_datetime(all_data_df[column])\n",
        "\n",
        "all_data_df['product_category_name_english'].fillna('Unknown', inplace=True)\n",
        "\n",
        "numerical_cols = ['product_name_length', 'product_description_length', 'product_photos_qty', 'product_weight_g',\n",
        "                  'product_length_cm', 'product_height_cm', 'product_width_cm']\n",
        "\n",
        "for col in numerical_cols:\n",
        "    median_value = all_order_df[col].median()\n",
        "    all_order_df[col].fillna(median_value, inplace=True)\n",
        "\n",
        "all_data_df['order_approved_at'].fillna(all_data_df['order_purchase_timestamp'], inplace=True)\n",
        "\n",
        "median_carrier_delay = (all_data_df['order_delivered_carrier_date'] - all_data_df['order_approved_at']).median()\n",
        "all_data_df['order_delivered_carrier_date'].fillna(all_data_df['order_approved_at'] + median_carrier_delay, inplace=True)\n",
        "\n",
        "median_delivery_time = (all_data_df['order_delivered_customer_date'] - all_data_df['order_delivered_carrier_date']).median()\n",
        "all_data_df['order_delivered_customer_date'].fillna(all_data_df['order_delivered_carrier_date'] + median_delivery_time, inplace=True)\n",
        "\n",
        "Q1 = all_data_df['payment_value'].quantile(0.25)\n",
        "Q3 = all_data_df['payment_value'].quantile(0.75)\n",
        "IQR = Q3 - Q1\n",
        "all_data_df = all_data_df[(all_data_df['payment_value'] >= Q1 - 1.5 * IQR) &\n",
        "                                            (all_data_df['payment_value'] <= Q3 + 1.5 * IQR)]\n",
        "\n",
        "\n",
        "rfm_df = create_rfm_df(all_data_df)\n"
      ],
      "metadata": {
        "id": "jVnYpprE9Evz"
      },
      "execution_count": null,
      "outputs": []
    },
    {
      "cell_type": "markdown",
      "source": [
        "**Insight:**\n",
        "- xxx\n",
        "- xxx"
      ],
      "metadata": {
        "id": "Q_5ejIqckiSP"
      }
    },
    {
      "cell_type": "markdown",
      "metadata": {
        "id": "gp-Y6wU38DC1"
      },
      "source": [
        "## Exploratory Data Analysis (EDA)"
      ]
    },
    {
      "cell_type": "markdown",
      "metadata": {
        "id": "MW7WF2kr8DC1"
      },
      "source": [
        "### Explore ..."
      ]
    },
    {
      "cell_type": "code",
      "execution_count": null,
      "metadata": {
        "id": "e9CQCZjk8DC2"
      },
      "outputs": [],
      "source": [
        "def create_sum_order_items_df(df):\n",
        "    all_order_df = df.groupby(\"product_category_name_english\").agg({\n",
        "        'order_item_id': 'count',\n",
        "        'payment_value': 'sum',\n",
        "        'product_name_lenght': 'median',\n",
        "        'product_description_lenght': 'median',\n",
        "        'product_photos_qty': 'median',\n",
        "        'product_weight_g': 'median',\n",
        "        'product_length_cm': 'median',\n",
        "        'product_height_cm': 'median',\n",
        "        'product_width_cm': 'median'\n",
        "    }).sort_values(by='order_item_id', ascending=False).reset_index()\n",
        "\n",
        "    all_order_df.columns = ['product_category_name_english', 'quantity', 'payment_value',\n",
        "                            'product_name_length', 'product_description_length',\n",
        "                            'product_photos_qty', 'product_weight_g',\n",
        "                            'product_length_cm', 'product_height_cm', 'product_width_cm']\n",
        "\n",
        "    return all_order_df\n",
        "\n",
        "def create_rfm_df(df):\n",
        "    rfm_df = df.groupby(by=\"customer_id\", as_index=False).agg({\n",
        "        \"order_purchase_timestamp\": \"max\",\n",
        "        \"order_id\": \"nunique\",\n",
        "        \"payment_value\": \"sum\"\n",
        "    })\n",
        "    rfm_df.columns = [\"customer_id\", \"max_order_timestamp\", \"frequency\", \"monetary\"]\n",
        "\n",
        "    rfm_df[\"max_order_timestamp\"] = rfm_df[\"max_order_timestamp\"].dt.date\n",
        "    recent_date = df[\"order_purchase_timestamp\"].dt.date.max()\n",
        "    rfm_df[\"recency\"] = rfm_df[\"max_order_timestamp\"].apply(lambda x: (recent_date - x).days)\n",
        "    rfm_df.drop(\"max_order_timestamp\", axis=1, inplace=True)\n",
        "\n",
        "    return rfm_df\n"
      ]
    },
    {
      "cell_type": "markdown",
      "source": [
        "**Insight:**\n",
        "- xxx\n",
        "- xxx"
      ],
      "metadata": {
        "id": "th_Lzl2Fkj9O"
      }
    },
    {
      "cell_type": "markdown",
      "metadata": {
        "id": "zsyZjqak8DC2"
      },
      "source": [
        "## Visualization & Explanatory Analysis"
      ]
    },
    {
      "cell_type": "markdown",
      "metadata": {
        "id": "HZxOiQ6n8DC2"
      },
      "source": [
        "### Pertanyaan 1:"
      ]
    },
    {
      "cell_type": "code",
      "execution_count": null,
      "metadata": {
        "id": "1swJUdAD8DC2"
      },
      "outputs": [],
      "source": [
        "def highlight_max_bar(data, x, y, title, xlabel, ylabel, max_color=\"orange\", default_color=\"gray\"):\n",
        "    max_index = data[y].idxmax()\n",
        "\n",
        "    colors = [max_color if i == max_index else default_color for i in range(len(data))]\n",
        "\n",
        "    fig, ax = plt.subplots(figsize=(12, 17))\n",
        "    sns.barplot(x=y, y=x, data=data, palette=colors, ax=ax)\n",
        "\n",
        "    ax.set_title(title, fontsize=15)\n",
        "    ax.set_xlabel(xlabel, fontsize=12)\n",
        "    ax.set_ylabel(ylabel, fontsize=12)\n",
        "    ax.set_xticklabels(ax.get_xticklabels(), rotation=0)\n",
        "\n",
        "    max_value = data[y].max()\n",
        "    ax.annotate(f\"Max: {max_value:.2f}\",\n",
        "                xy=(max_index, max_value),\n",
        "                xytext=(max_index, max_value * 1.05),\n",
        "                textcoords=\"data\",\n",
        "                ha='center',\n",
        "                fontsize=12,\n",
        "                color='black',\n",
        "                arrowprops=dict(facecolor='black', arrowstyle=\"->\"))\n",
        "\n",
        "    st.pyplot(fig)\n",
        "\n",
        "highlight_max_bar(\n",
        "      data=all_order_df,\n",
        "      x=\"product_category_name_english\",\n",
        "      y=\"payment_value\",\n",
        "      title=\"Payment Value by Product Category\",\n",
        "      xlabel=\"Product Category\",\n",
        "      ylabel=\"Total Payment Value (BRL)\"\n",
        "  )"
      ]
    },
    {
      "cell_type": "markdown",
      "metadata": {
        "id": "DgHI7CiU8DC2"
      },
      "source": [
        "### Pertanyaan 2:"
      ]
    },
    {
      "cell_type": "code",
      "execution_count": 1,
      "metadata": {
        "id": "Go0lCsvO8DC2"
      },
      "outputs": [],
      "source": [
        "def plot_histogram_with_highlight(data, x, bins, title, xlabel, ylabel, highlight_color='orange', base_color='teal'):\n",
        "    fig, ax = plt.subplots()\n",
        "\n",
        "    counts, bin_edges = np.histogram(data[x], bins=bins)\n",
        "\n",
        "    max_bin_idx = np.argmax(counts)\n",
        "\n",
        "    for i in range(len(counts)):\n",
        "        color = highlight_color if i == max_bin_idx else base_color\n",
        "        ax.bar(bin_edges[i], counts[i], width=bin_edges[i+1] - bin_edges[i], color=color, edgecolor=\"black\", align='edge')\n",
        "\n",
        "    ax.set_title(title, fontsize=15)\n",
        "    ax.set_xlabel(xlabel, fontsize=12)\n",
        "    ax.set_ylabel(ylabel, fontsize=12)\n",
        "\n",
        "    st.pyplot(fig)\n",
        "\n",
        "plot_histogram_with_highlight(\n",
        "    data=main_df,\n",
        "    x='payment_value',\n",
        "    bins=30,\n",
        "    title=\"Payment Value Distribution\",\n",
        "    xlabel=\"Payment Value (BRL)\",\n",
        "    ylabel=\"Number of Orders\"\n",
        ")\n",
        "\n",
        "corr = all_order_df[['payment_value', 'quantity']].corr()\n",
        "fig, ax = plt.subplots()\n",
        "sns.heatmap(corr, annot=True, cmap=\"Blues\", ax=ax)\n",
        "ax.set_title(\"Correlation Heatmap\")\n",
        "ax.set_xlabel(\"Metrics (Payment Value, Quantity)\")\n",
        "ax.set_ylabel(\"Metrics (Payment Value, Quantity)\")\n",
        "st.pyplot(fig)"
      ]
    },
    {
      "cell_type": "markdown",
      "source": [
        "**Insight:**\n",
        "- xxx\n",
        "- xxx"
      ],
      "metadata": {
        "id": "_0-36BDLklRg"
      }
    },
    {
      "cell_type": "markdown",
      "source": [
        "## Analisis Lanjutan (Opsional)"
      ],
      "metadata": {
        "id": "9y4VUsmcYNZ5"
      }
    },
    {
      "cell_type": "code",
      "source": [
        "st.subheader(\"RFM Analysis\")\n",
        "\n",
        "    # Create tabs\n",
        "    tabs1, tabs2, tabs3 = st.tabs([\"Recency\", \"Frequency\", \"Monetary\"])\n",
        "\n",
        "    # tabs 1: Recency\n",
        "    with tabs1:\n",
        "        avg_recency = round(rfm_df[\"recency\"].mean(), 1)\n",
        "        st.metric(\"Average Recency (days)\", value=avg_recency)\n",
        "        top_n = st.slider(\"Select Top N Customers for Recency\", min_value=3, max_value=10, value=5)\n",
        "        top_customers_recency = rfm_df.sort_values(by=\"recency\", ascending=False).head(top_n)\n",
        "\n",
        "        fig, ax = plt.subplots(figsize=(10, 6))\n",
        "        sns.barplot(y=\"recency\", x=\"short_customer_id\", data=top_customers_recency, palette=\"PuBuGn_r\")\n",
        "        ax.set_title(f\"Top {top_n} Customers by Recency\", fontsize=15)\n",
        "        st.pyplot(fig)\n",
        "\n",
        "    # tabs 2: Frequency\n",
        "    with tabs2:\n",
        "        avg_frequency = round(rfm_df[\"frequency\"].mean(), 2)\n",
        "        st.metric(\"Average Frequency\", value=avg_frequency)\n",
        "\n",
        "        # Plot for Frequency\n",
        "        fig, ax = plt.subplots(figsize=(10, 6))\n",
        "        sns.barplot(y=\"frequency\", x=\"short_customer_id\", data=rfm_df.sort_values(by=\"frequency\", ascending=False).head(5), palette=\"Blues_d\")\n",
        "        ax.set_ylabel(\"Frequency\", fontsize=12)\n",
        "        ax.set_xlabel(\"Customer ID\", fontsize=12)\n",
        "        ax.set_title(\"Top 5 Customers by Frequency\", fontsize=15)\n",
        "        st.pyplot(fig)\n",
        "\n",
        "    # tabs 3: Monetary\n",
        "    with tabs3:\n",
        "        avg_monetary = format_currency(rfm_df[\"monetary\"].mean(), \"BRL\", locale='es_CO')\n",
        "        st.metric(\"Average Monetary\", value=avg_monetary)\n",
        "\n",
        "        # Plot for Monetary\n",
        "        fig, ax = plt.subplots(figsize=(10, 6))\n",
        "        sns.barplot(y=\"monetary\", x=\"short_customer_id\", data=rfm_df.sort_values(by=\"monetary\", ascending=False).head(5), palette=\"GnBu_r\")\n",
        "        ax.set_ylabel(\"Monetary Value (BRL)\", fontsize=12)\n",
        "        ax.set_xlabel(\"Customer ID\", fontsize=12)\n",
        "        ax.set_title(\"Top 5 Customers by Monetary\", fontsize=15)\n",
        "        st.pyplot(fig)\n"
      ],
      "metadata": {
        "id": "iWhnzsJGYUCO"
      },
      "execution_count": null,
      "outputs": []
    },
    {
      "cell_type": "markdown",
      "metadata": {
        "id": "_WeHlCeX8DC2"
      },
      "source": [
        "## Conclusion"
      ]
    },
    {
      "cell_type": "markdown",
      "metadata": {
        "id": "ZTcyR48Y8DC2"
      },
      "source": [
        "- Distribusi nilai pembayaran menunjukkan bahwa sebagian besar transaksi cenderung berkerumun di sekitar nilai 50 BRL. Ini dapat menunjukkan bahwa sebagian besar pesanan berada dalam kisaran harga tertentu, menjadikannya target penting untuk promosi atau bundling produk. Nilai yang lebih rendah dapat mencerminkan produk dengan harga lebih rendah atau pesanan yang lebih kecil.\n",
        "- Hasilnya menunjukkan bahwa tidak hanya kategori produk tertentu seperti \"bed bath table\" menghasilkan nilai pembayaran yang tinggi, tetapi korelasinya juga menunjukkan bahwa jumlah pesanan yang lebih besar secara signifikan memengaruhi nilai pembayaran secara keseluruhan. Berfokus pada kategori produk ini dan mendorong pembelian massal dapat lebih meningkatkan penjualan.\n",
        "- Analisis Recency, Frekuensi, Moneter (RFM) membantu bisnis lebih memahami basis pelanggan mereka dan memungkinkan segmentasi berdasarkan tiga faktor utama:\n",
        "\n",
        "Kebaruan: Seberapa baru pelanggan melakukan pembelian.\n",
        "Frekuensi: Seberapa sering pelanggan melakukan pembelian.\n",
        "Uang: Berapa banyak yang dihabiskan pelanggan untuk pembelian mereka."
      ]
    }
  ],
  "metadata": {
    "kernelspec": {
      "display_name": "Python 3",
      "language": "python",
      "name": "python3"
    },
    "language_info": {
      "name": "python",
      "version": "3.8.0 (tags/v3.8.0:fa919fd, Oct 14 2019, 19:21:23) [MSC v.1916 32 bit (Intel)]"
    },
    "orig_nbformat": 4,
    "vscode": {
      "interpreter": {
        "hash": "972b3bf27e332e87b5379f2791f6ef9dfc79c71018c370b0d7423235e20fe4d7"
      }
    },
    "colab": {
      "provenance": []
    }
  },
  "nbformat": 4,
  "nbformat_minor": 0
}